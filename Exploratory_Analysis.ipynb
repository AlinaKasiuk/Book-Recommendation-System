{
 "cells": [
  {
   "cell_type": "markdown",
   "id": "5728d45f",
   "metadata": {},
   "source": [
    "# <a href=\"https://colab.research.google.com/github/AlinaKasiuk/Book-Recommendation-System/blob/main/Exploratory_Analysis.ipynb\" target=\"_parent\"><img src=\"https://colab.research.google.com/assets/colab-badge.svg\" alt=\"Open In Colab\"/></a>"
   ]
  },
  {
   "cell_type": "code",
   "execution_count": null,
   "id": "4da1c056",
   "metadata": {},
   "outputs": [],
   "source": [
    "!wget --no-check-certificate http://www2.informatik.uni-freiburg.de/~cziegler/BX/BX-CSV-Dump.zip"
   ]
  },
  {
   "cell_type": "code",
   "execution_count": null,
   "id": "275d9468",
   "metadata": {},
   "outputs": [],
   "source": [
    "import os\n",
    "import zipfile\n",
    "\n",
    "if not os.path.exists('./Datasets/'):\n",
    "    os.makedirs('./Datasets/')\n",
    "\n",
    "    # Unzip the archive\n",
    "    local_zip = './BX-CSV-Dump.zip'\n",
    "    zip_ref = zipfile.ZipFile(local_zip, 'r')\n",
    "    zip_ref.extractall('./Datasets/')\n",
    "\n",
    "    zip_ref.close()"
   ]
  }
 ],
 "metadata": {
  "kernelspec": {
   "display_name": "Python 3 (ipykernel)",
   "language": "python",
   "name": "python3"
  },
  "language_info": {
   "codemirror_mode": {
    "name": "ipython",
    "version": 3
   },
   "file_extension": ".py",
   "mimetype": "text/x-python",
   "name": "python",
   "nbconvert_exporter": "python",
   "pygments_lexer": "ipython3",
   "version": "3.7.13"
  }
 },
 "nbformat": 4,
 "nbformat_minor": 5
}
