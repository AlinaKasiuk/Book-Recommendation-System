{
 "cells": [
  {
   "cell_type": "markdown",
   "id": "0055f9aa",
   "metadata": {},
   "source": [
    "# <a href=\"https://colab.research.google.com/github/AlinaKasiuk/Book-Recommendation-System/blob/main/Exploratory_Analysis.ipynb\" target=\"_parent\"><img src=\"https://colab.research.google.com/assets/colab-badge.svg\" alt=\"Open In Colab\"/></a>"
   ]
  },
  {
   "cell_type": "markdown",
   "id": "2473596c",
   "metadata": {},
   "source": [
    "## Exploratary analisys and data preprocessing"
   ]
  },
  {
   "cell_type": "markdown",
   "id": "3aee34be",
   "metadata": {},
   "source": [
    "Firstly the dataset used in the Project (Book-Crossing Dataset) should be downloaded.\n",
    "You can do it automaticaly using <b>Dataset_Downloading.ipynb</b> or use the following the link: http://www.informatik.uni-freiburg.de/~cziegler/BX"
   ]
  },
  {
   "cell_type": "markdown",
   "id": "566dc693",
   "metadata": {},
   "source": [
    "####  Install the required libraries"
   ]
  },
  {
   "cell_type": "code",
   "execution_count": 1,
   "id": "25059e4e",
   "metadata": {},
   "outputs": [],
   "source": [
    "import numpy as np \n",
    "import pandas as pd \n",
    "import os\n",
    "import matplotlib.pyplot as plt\n",
    "from sklearn.preprocessing import MinMaxScaler\n",
    "import math"
   ]
  },
  {
   "cell_type": "markdown",
   "id": "c090c8b3",
   "metadata": {},
   "source": [
    "#### General observations"
   ]
  },
  {
   "cell_type": "markdown",
   "id": "ff9f52b8",
   "metadata": {},
   "source": [
    "Choose the dateset folder and obsereve which files are saved in it:"
   ]
  },
  {
   "cell_type": "code",
   "execution_count": 2,
   "id": "c1d2c466",
   "metadata": {},
   "outputs": [
    {
     "name": "stdout",
     "output_type": "stream",
     "text": [
      "['BX-Book-Ratings.csv', 'BX-Books.csv', 'BX-Users.csv', 'Datasets']\n"
     ]
    }
   ],
   "source": [
    "print(os.listdir('./Datasets/'))"
   ]
  },
  {
   "cell_type": "markdown",
   "id": "59a89997",
   "metadata": {},
   "source": [
    "As we see, the archive contains three files: <i>'BX-Book-Ratings.csv', 'BX-Books.csv', 'BX-Users.csv'</i>. Let's open and analyze each of them."
   ]
  },
  {
   "cell_type": "code",
   "execution_count": 3,
   "id": "52d4065c",
   "metadata": {},
   "outputs": [
    {
     "data": {
      "text/html": [
       "<div>\n",
       "<style scoped>\n",
       "    .dataframe tbody tr th:only-of-type {\n",
       "        vertical-align: middle;\n",
       "    }\n",
       "\n",
       "    .dataframe tbody tr th {\n",
       "        vertical-align: top;\n",
       "    }\n",
       "\n",
       "    .dataframe thead th {\n",
       "        text-align: right;\n",
       "    }\n",
       "</style>\n",
       "<table border=\"1\" class=\"dataframe\">\n",
       "  <thead>\n",
       "    <tr style=\"text-align: right;\">\n",
       "      <th></th>\n",
       "      <th>User-ID</th>\n",
       "      <th>ISBN</th>\n",
       "      <th>Book-Rating</th>\n",
       "    </tr>\n",
       "  </thead>\n",
       "  <tbody>\n",
       "    <tr>\n",
       "      <th>0</th>\n",
       "      <td>276725</td>\n",
       "      <td>034545104X</td>\n",
       "      <td>0</td>\n",
       "    </tr>\n",
       "    <tr>\n",
       "      <th>1</th>\n",
       "      <td>276726</td>\n",
       "      <td>0155061224</td>\n",
       "      <td>5</td>\n",
       "    </tr>\n",
       "    <tr>\n",
       "      <th>2</th>\n",
       "      <td>276727</td>\n",
       "      <td>0446520802</td>\n",
       "      <td>0</td>\n",
       "    </tr>\n",
       "    <tr>\n",
       "      <th>3</th>\n",
       "      <td>276729</td>\n",
       "      <td>052165615X</td>\n",
       "      <td>3</td>\n",
       "    </tr>\n",
       "    <tr>\n",
       "      <th>4</th>\n",
       "      <td>276729</td>\n",
       "      <td>0521795028</td>\n",
       "      <td>6</td>\n",
       "    </tr>\n",
       "  </tbody>\n",
       "</table>\n",
       "</div>"
      ],
      "text/plain": [
       "   User-ID        ISBN  Book-Rating\n",
       "0   276725  034545104X            0\n",
       "1   276726  0155061224            5\n",
       "2   276727  0446520802            0\n",
       "3   276729  052165615X            3\n",
       "4   276729  0521795028            6"
      ]
     },
     "execution_count": 3,
     "metadata": {},
     "output_type": "execute_result"
    }
   ],
   "source": [
    "rating = pd.read_csv('./Datasets/BX-Book-Ratings.csv', delimiter=';', encoding= 'unicode_escape')\n",
    "rating.head()"
   ]
  },
  {
   "cell_type": "code",
   "execution_count": 4,
   "id": "7d6b4150",
   "metadata": {},
   "outputs": [
    {
     "name": "stdout",
     "output_type": "stream",
     "text": [
      "The file BX-Book-Ratings.csv (dataset rating) has 1149780 rows and 3 columns\n"
     ]
    }
   ],
   "source": [
    "rRow, rCol = rating.shape\n",
    "print(f'The file BX-Book-Ratings.csv (dataset rating) has {rRow} rows and {rCol} columns')"
   ]
  },
  {
   "cell_type": "markdown",
   "id": "83ddc85b",
   "metadata": {},
   "source": [
    "<b>The file 'BX-Book-Ratings.csv' contains the book evaluations made by users</b>"
   ]
  },
  {
   "cell_type": "markdown",
   "id": "b5f66550",
   "metadata": {},
   "source": [
    "Let's draw the histogram."
   ]
  },
  {
   "cell_type": "code",
   "execution_count": 5,
   "id": "261ded85",
   "metadata": {},
   "outputs": [
    {
     "data": {
      "text/plain": [
       "<AxesSubplot:>"
      ]
     },
     "execution_count": 5,
     "metadata": {},
     "output_type": "execute_result"
    },
    {
     "data": {
      "image/png": "[encoded data removed]",
      "text/plain": [
       "<Figure size 432x288 with 1 Axes>"
      ]
     },
     "metadata": {
      "needs_background": "light"
     },
     "output_type": "display_data"
    }
   ],
   "source": [
    "rating['Book-Rating'].hist()"
   ]
  },
  {
   "cell_type": "markdown",
   "id": "72dac1c3",
   "metadata": {},
   "source": [
    "It can be seen that the major part of the ratings posted by users are zeros. It probably occuress because a users normally rates some books but not all the boks. So let's clean the data to use only positive evaluations."
   ]
  },
  {
   "cell_type": "code",
   "execution_count": 6,
   "id": "a4a9a753",
   "metadata": {},
   "outputs": [],
   "source": [
    "rating =rating[rating['Book-Rating']>0]"
   ]
  },
  {
   "cell_type": "code",
   "execution_count": 7,
   "id": "f40c98c7",
   "metadata": {},
   "outputs": [
    {
     "data": {
      "text/plain": [
       "<AxesSubplot:>"
      ]
     },
     "execution_count": 7,
     "metadata": {},
     "output_type": "execute_result"
    },
    {
     "data": {
      "image/png": "[encoded data removed]",
      "text/plain": [
       "<Figure size 432x288 with 1 Axes>"
      ]
     },
     "metadata": {
      "needs_background": "light"
     },
     "output_type": "display_data"
    }
   ],
   "source": [
    "rating['Book-Rating'].hist()"
   ]
  },
  {
   "cell_type": "code",
   "execution_count": 8,
   "id": "a6d94bd8",
   "metadata": {},
   "outputs": [
    {
     "name": "stdout",
     "output_type": "stream",
     "text": [
      " 433671 rows left in the dataset rating\n"
     ]
    }
   ],
   "source": [
    "rRow, rCol = rating.shape\n",
    "print(f' {rRow} rows left in the dataset rating')"
   ]
  },
  {
   "cell_type": "markdown",
   "id": "77966c20",
   "metadata": {},
   "source": [
    "Now let's open the file <i>BX-Books.csv</i>"
   ]
  },
  {
   "cell_type": "code",
   "execution_count": 9,
   "id": "f10ade8e",
   "metadata": {},
   "outputs": [
    {
     "data": {
      "text/html": [
       "<div>\n",
       "<style scoped>\n",
       "    .dataframe tbody tr th:only-of-type {\n",
       "        vertical-align: middle;\n",
       "    }\n",
       "\n",
       "    .dataframe tbody tr th {\n",
       "        vertical-align: top;\n",
       "    }\n",
       "\n",
       "    .dataframe thead th {\n",
       "        text-align: right;\n",
       "    }\n",
       "</style>\n",
       "<table border=\"1\" class=\"dataframe\">\n",
       "  <thead>\n",
       "    <tr style=\"text-align: right;\">\n",
       "      <th></th>\n",
       "      <th>ISBN</th>\n",
       "      <th>Book-Title</th>\n",
       "      <th>Book-Author</th>\n",
       "      <th>Year-Of-Publication</th>\n",
       "      <th>Publisher</th>\n",
       "      <th>Image-URL-S</th>\n",
       "      <th>Image-URL-M</th>\n",
       "      <th>Image-URL-L</th>\n",
       "    </tr>\n",
       "  </thead>\n",
       "  <tbody>\n",
       "    <tr>\n",
       "      <th>0</th>\n",
       "      <td>0195153448</td>\n",
       "      <td>Classical Mythology</td>\n",
       "      <td>Mark P. O. Morford</td>\n",
       "      <td>2002</td>\n",
       "      <td>Oxford University Press</td>\n",
       "      <td>http://images.amazon.com/images/P/0195153448.0...</td>\n",
       "      <td>http://images.amazon.com/images/P/0195153448.0...</td>\n",
       "      <td>http://images.amazon.com/images/P/0195153448.0...</td>\n",
       "    </tr>\n",
       "    <tr>\n",
       "      <th>1</th>\n",
       "      <td>0002005018</td>\n",
       "      <td>Clara Callan</td>\n",
       "      <td>Richard Bruce Wright</td>\n",
       "      <td>2001</td>\n",
       "      <td>HarperFlamingo Canada</td>\n",
       "      <td>http://images.amazon.com/images/P/0002005018.0...</td>\n",
       "      <td>http://images.amazon.com/images/P/0002005018.0...</td>\n",
       "      <td>http://images.amazon.com/images/P/0002005018.0...</td>\n",
       "    </tr>\n",
       "    <tr>\n",
       "      <th>2</th>\n",
       "      <td>0060973129</td>\n",
       "      <td>Decision in Normandy</td>\n",
       "      <td>Carlo D'Este</td>\n",
       "      <td>1991</td>\n",
       "      <td>HarperPerennial</td>\n",
       "      <td>http://images.amazon.com/images/P/0060973129.0...</td>\n",
       "      <td>http://images.amazon.com/images/P/0060973129.0...</td>\n",
       "      <td>http://images.amazon.com/images/P/0060973129.0...</td>\n",
       "    </tr>\n",
       "    <tr>\n",
       "      <th>3</th>\n",
       "      <td>0374157065</td>\n",
       "      <td>Flu: The Story of the Great Influenza Pandemic...</td>\n",
       "      <td>Gina Bari Kolata</td>\n",
       "      <td>1999</td>\n",
       "      <td>Farrar Straus Giroux</td>\n",
       "      <td>http://images.amazon.com/images/P/0374157065.0...</td>\n",
       "      <td>http://images.amazon.com/images/P/0374157065.0...</td>\n",
       "      <td>http://images.amazon.com/images/P/0374157065.0...</td>\n",
       "    </tr>\n",
       "    <tr>\n",
       "      <th>4</th>\n",
       "      <td>0393045218</td>\n",
       "      <td>The Mummies of Urumchi</td>\n",
       "      <td>E. J. W. Barber</td>\n",
       "      <td>1999</td>\n",
       "      <td>W. W. Norton &amp;amp; Company</td>\n",
       "      <td>http://images.amazon.com/images/P/0393045218.0...</td>\n",
       "      <td>http://images.amazon.com/images/P/0393045218.0...</td>\n",
       "      <td>http://images.amazon.com/images/P/0393045218.0...</td>\n",
       "    </tr>\n",
       "  </tbody>\n",
       "</table>\n",
       "</div>"
      ],
      "text/plain": [
       "         ISBN                                         Book-Title  \\\n",
       "0  0195153448                                Classical Mythology   \n",
       "1  0002005018                                       Clara Callan   \n",
       "2  0060973129                               Decision in Normandy   \n",
       "3  0374157065  Flu: The Story of the Great Influenza Pandemic...   \n",
       "4  0393045218                             The Mummies of Urumchi   \n",
       "\n",
       "            Book-Author Year-Of-Publication                   Publisher  \\\n",
       "0    Mark P. O. Morford                2002     Oxford University Press   \n",
       "1  Richard Bruce Wright                2001       HarperFlamingo Canada   \n",
       "2          Carlo D'Este                1991             HarperPerennial   \n",
       "3      Gina Bari Kolata                1999        Farrar Straus Giroux   \n",
       "4       E. J. W. Barber                1999  W. W. Norton &amp; Company   \n",
       "\n",
       "                                         Image-URL-S  \\\n",
       "0  http://images.amazon.com/images/P/0195153448.0...   \n",
       "1  http://images.amazon.com/images/P/0002005018.0...   \n",
       "2  http://images.amazon.com/images/P/0060973129.0...   \n",
       "3  http://images.amazon.com/images/P/0374157065.0...   \n",
       "4  http://images.amazon.com/images/P/0393045218.0...   \n",
       "\n",
       "                                         Image-URL-M  \\\n",
       "0  http://images.amazon.com/images/P/0195153448.0...   \n",
       "1  http://images.amazon.com/images/P/0002005018.0...   \n",
       "2  http://images.amazon.com/images/P/0060973129.0...   \n",
       "3  http://images.amazon.com/images/P/0374157065.0...   \n",
       "4  http://images.amazon.com/images/P/0393045218.0...   \n",
       "\n",
       "                                         Image-URL-L  \n",
       "0  http://images.amazon.com/images/P/0195153448.0...  \n",
       "1  http://images.amazon.com/images/P/0002005018.0...  \n",
       "2  http://images.amazon.com/images/P/0060973129.0...  \n",
       "3  http://images.amazon.com/images/P/0374157065.0...  \n",
       "4  http://images.amazon.com/images/P/0393045218.0...  "
      ]
     },
     "execution_count": 9,
     "metadata": {},
     "output_type": "execute_result"
    }
   ],
   "source": [
    "book = pd.read_csv('./Datasets/BX-Books.csv', delimiter=';', encoding= 'unicode_escape', on_bad_lines='skip', low_memory=False)\n",
    "book.head()"
   ]
  },
  {
   "cell_type": "markdown",
   "id": "45c865c3",
   "metadata": {},
   "source": [
    "<b>Here we see that the file 'BX-Books.csv' contains the information about the books: their publication dates, publisher, author and links to the book images. </b>"
   ]
  },
  {
   "cell_type": "markdown",
   "id": "7335cc3f",
   "metadata": {},
   "source": [
    "Let's join the files <i>'BX-Book-Ratings.csv'</i> and <i>'BX-Books.csv'</i> into one Dataset. We do not choose the image links as we will not use it for this Project."
   ]
  },
  {
   "cell_type": "code",
   "execution_count": 10,
   "id": "641e5e88",
   "metadata": {},
   "outputs": [
    {
     "data": {
      "text/html": [
       "<div>\n",
       "<style scoped>\n",
       "    .dataframe tbody tr th:only-of-type {\n",
       "        vertical-align: middle;\n",
       "    }\n",
       "\n",
       "    .dataframe tbody tr th {\n",
       "        vertical-align: top;\n",
       "    }\n",
       "\n",
       "    .dataframe thead th {\n",
       "        text-align: right;\n",
       "    }\n",
       "</style>\n",
       "<table border=\"1\" class=\"dataframe\">\n",
       "  <thead>\n",
       "    <tr style=\"text-align: right;\">\n",
       "      <th></th>\n",
       "      <th>User-ID</th>\n",
       "      <th>ISBN</th>\n",
       "      <th>Book-Rating</th>\n",
       "      <th>Book-Title</th>\n",
       "      <th>Book-Author</th>\n",
       "      <th>Year-Of-Publication</th>\n",
       "      <th>Publisher</th>\n",
       "    </tr>\n",
       "  </thead>\n",
       "  <tbody>\n",
       "    <tr>\n",
       "      <th>0</th>\n",
       "      <td>276726</td>\n",
       "      <td>0155061224</td>\n",
       "      <td>5</td>\n",
       "      <td>Rites of Passage</td>\n",
       "      <td>Judith Rae</td>\n",
       "      <td>2001</td>\n",
       "      <td>Heinle</td>\n",
       "    </tr>\n",
       "    <tr>\n",
       "      <th>1</th>\n",
       "      <td>276729</td>\n",
       "      <td>052165615X</td>\n",
       "      <td>3</td>\n",
       "      <td>Help!: Level 1</td>\n",
       "      <td>Philip Prowse</td>\n",
       "      <td>1999</td>\n",
       "      <td>Cambridge University Press</td>\n",
       "    </tr>\n",
       "    <tr>\n",
       "      <th>2</th>\n",
       "      <td>276729</td>\n",
       "      <td>0521795028</td>\n",
       "      <td>6</td>\n",
       "      <td>The Amsterdam Connection : Level 4 (Cambridge ...</td>\n",
       "      <td>Sue Leather</td>\n",
       "      <td>2001</td>\n",
       "      <td>Cambridge University Press</td>\n",
       "    </tr>\n",
       "    <tr>\n",
       "      <th>3</th>\n",
       "      <td>276744</td>\n",
       "      <td>038550120X</td>\n",
       "      <td>7</td>\n",
       "      <td>A Painted House</td>\n",
       "      <td>JOHN GRISHAM</td>\n",
       "      <td>2001</td>\n",
       "      <td>Doubleday</td>\n",
       "    </tr>\n",
       "    <tr>\n",
       "      <th>4</th>\n",
       "      <td>11676</td>\n",
       "      <td>038550120X</td>\n",
       "      <td>10</td>\n",
       "      <td>A Painted House</td>\n",
       "      <td>JOHN GRISHAM</td>\n",
       "      <td>2001</td>\n",
       "      <td>Doubleday</td>\n",
       "    </tr>\n",
       "  </tbody>\n",
       "</table>\n",
       "</div>"
      ],
      "text/plain": [
       "   User-ID        ISBN  Book-Rating  \\\n",
       "0   276726  0155061224            5   \n",
       "1   276729  052165615X            3   \n",
       "2   276729  0521795028            6   \n",
       "3   276744  038550120X            7   \n",
       "4    11676  038550120X           10   \n",
       "\n",
       "                                          Book-Title    Book-Author  \\\n",
       "0                                   Rites of Passage     Judith Rae   \n",
       "1                                     Help!: Level 1  Philip Prowse   \n",
       "2  The Amsterdam Connection : Level 4 (Cambridge ...    Sue Leather   \n",
       "3                                    A Painted House   JOHN GRISHAM   \n",
       "4                                    A Painted House   JOHN GRISHAM   \n",
       "\n",
       "  Year-Of-Publication                   Publisher  \n",
       "0                2001                      Heinle  \n",
       "1                1999  Cambridge University Press  \n",
       "2                2001  Cambridge University Press  \n",
       "3                2001                   Doubleday  \n",
       "4                2001                   Doubleday  "
      ]
     },
     "execution_count": 10,
     "metadata": {},
     "output_type": "execute_result"
    }
   ],
   "source": [
    "book = pd.read_csv('./Datasets/BX-Books.csv', usecols=range(5), delimiter=';', encoding= 'unicode_escape', on_bad_lines='skip', low_memory=False)\n",
    "book_rating = pd.merge(rating, book, on='ISBN')\n",
    "cols = ['Year-Of-Publication', 'Publisher', 'Book-Author']\n",
    "book_rating.head()"
   ]
  },
  {
   "cell_type": "code",
   "execution_count": 11,
   "id": "3785c9af",
   "metadata": {},
   "outputs": [
    {
     "name": "stdout",
     "output_type": "stream",
     "text": [
      "Now we have got the book_rating dataset with 383852 rows yand 7 columns\n"
     ]
    }
   ],
   "source": [
    "brRow, brCol = book_rating.shape\n",
    "print(f'Now we have got the book_rating dataset with {brRow} rows yand {brCol} columns')"
   ]
  },
  {
   "cell_type": "markdown",
   "id": "4b375246",
   "metadata": {},
   "source": [
    "Now let's open the file <i>BX-Users.csv</i>\n"
   ]
  },
  {
   "cell_type": "code",
   "execution_count": 12,
   "id": "bc60aa8b",
   "metadata": {},
   "outputs": [
    {
     "data": {
      "text/html": [
       "<div>\n",
       "<style scoped>\n",
       "    .dataframe tbody tr th:only-of-type {\n",
       "        vertical-align: middle;\n",
       "    }\n",
       "\n",
       "    .dataframe tbody tr th {\n",
       "        vertical-align: top;\n",
       "    }\n",
       "\n",
       "    .dataframe thead th {\n",
       "        text-align: right;\n",
       "    }\n",
       "</style>\n",
       "<table border=\"1\" class=\"dataframe\">\n",
       "  <thead>\n",
       "    <tr style=\"text-align: right;\">\n",
       "      <th></th>\n",
       "      <th>User-ID</th>\n",
       "      <th>Location</th>\n",
       "      <th>Age</th>\n",
       "    </tr>\n",
       "  </thead>\n",
       "  <tbody>\n",
       "    <tr>\n",
       "      <th>0</th>\n",
       "      <td>1</td>\n",
       "      <td>nyc, new york, usa</td>\n",
       "      <td>NaN</td>\n",
       "    </tr>\n",
       "    <tr>\n",
       "      <th>1</th>\n",
       "      <td>2</td>\n",
       "      <td>stockton, california, usa</td>\n",
       "      <td>18.0</td>\n",
       "    </tr>\n",
       "    <tr>\n",
       "      <th>2</th>\n",
       "      <td>3</td>\n",
       "      <td>moscow, yukon territory, russia</td>\n",
       "      <td>NaN</td>\n",
       "    </tr>\n",
       "    <tr>\n",
       "      <th>3</th>\n",
       "      <td>4</td>\n",
       "      <td>porto, v.n.gaia, portugal</td>\n",
       "      <td>17.0</td>\n",
       "    </tr>\n",
       "    <tr>\n",
       "      <th>4</th>\n",
       "      <td>5</td>\n",
       "      <td>farnborough, hants, united kingdom</td>\n",
       "      <td>NaN</td>\n",
       "    </tr>\n",
       "  </tbody>\n",
       "</table>\n",
       "</div>"
      ],
      "text/plain": [
       "   User-ID                            Location   Age\n",
       "0        1                  nyc, new york, usa   NaN\n",
       "1        2           stockton, california, usa  18.0\n",
       "2        3     moscow, yukon territory, russia   NaN\n",
       "3        4           porto, v.n.gaia, portugal  17.0\n",
       "4        5  farnborough, hants, united kingdom   NaN"
      ]
     },
     "execution_count": 12,
     "metadata": {},
     "output_type": "execute_result"
    }
   ],
   "source": [
    "user = pd.read_csv('./Datasets/BX-Users.csv', delimiter=';', encoding= 'unicode_escape')\n",
    "user.head()"
   ]
  },
  {
   "cell_type": "code",
   "execution_count": 13,
   "id": "1f521ec8",
   "metadata": {},
   "outputs": [
    {
     "name": "stdout",
     "output_type": "stream",
     "text": [
      "The file BX-Users.csv (dataset rating) has 278858 rows and 3 columns\n"
     ]
    }
   ],
   "source": [
    "uRow, uCol = user.shape\n",
    "print(f'The file BX-Users.csv (dataset rating) has {uRow} rows and {uCol} columns')"
   ]
  },
  {
   "cell_type": "code",
   "execution_count": 14,
   "id": "7653a5b6",
   "metadata": {},
   "outputs": [
    {
     "data": {
      "text/plain": [
       "<AxesSubplot:>"
      ]
     },
     "execution_count": 14,
     "metadata": {},
     "output_type": "execute_result"
    },
    {
     "data": {
      "image/png": "[encoded data removed]",
      "text/plain": [
       "<Figure size 432x288 with 1 Axes>"
      ]
     },
     "metadata": {
      "needs_background": "light"
     },
     "output_type": "display_data"
    }
   ],
   "source": [
    "user['Age'].hist()"
   ]
  },
  {
   "cell_type": "markdown",
   "id": "62583d67",
   "metadata": {},
   "source": [
    "It seems that some data has error because some users are over 200 years old.\n",
    "We remove the information for users who are over 100."
   ]
  },
  {
   "cell_type": "code",
   "execution_count": 23,
   "id": "9e448472",
   "metadata": {},
   "outputs": [],
   "source": [
    "user =user[user['Age']<100]"
   ]
  },
  {
   "cell_type": "code",
   "execution_count": 24,
   "id": "4b5e8db9",
   "metadata": {},
   "outputs": [
    {
     "data": {
      "text/plain": [
       "<AxesSubplot:>"
      ]
     },
     "execution_count": 24,
     "metadata": {},
     "output_type": "execute_result"
    },
    {
     "data": {
      "image/png": "[encoded data removed]",
      "text/plain": [
       "<Figure size 432x288 with 1 Axes>"
      ]
     },
     "metadata": {
      "needs_background": "light"
     },
     "output_type": "display_data"
    }
   ],
   "source": [
    "user['Age'].hist()"
   ]
  },
  {
   "cell_type": "markdown",
   "id": "41d66f53",
   "metadata": {},
   "source": [
    "Our datasets are too large in size, but few books have a good number of ratings to do a good analysis.\n",
    "We filter the books that have at least 20 evaluation points in total and the users who have given 10 evaluation points in total."
   ]
  },
  {
   "cell_type": "code",
   "execution_count": 25,
   "id": "0e08805f",
   "metadata": {},
   "outputs": [],
   "source": [
    "rating_count = (book_rating.\n",
    "     groupby(by = ['Book-Title'])['Book-Rating'].\n",
    "     count().\n",
    "     reset_index().\n",
    "     rename(columns = {'Book-Rating': 'RatingCount_book'})\n",
    "     [['Book-Title', 'RatingCount_book']]\n",
    "    )\n",
    "\n",
    "threshold = 20\n",
    "rating_count = rating_count.query('RatingCount_book >= @threshold')"
   ]
  },
  {
   "cell_type": "code",
   "execution_count": 26,
   "id": "4ba497e4",
   "metadata": {},
   "outputs": [
    {
     "data": {
      "text/html": [
       "<div>\n",
       "<style scoped>\n",
       "    .dataframe tbody tr th:only-of-type {\n",
       "        vertical-align: middle;\n",
       "    }\n",
       "\n",
       "    .dataframe tbody tr th {\n",
       "        vertical-align: top;\n",
       "    }\n",
       "\n",
       "    .dataframe thead th {\n",
       "        text-align: right;\n",
       "    }\n",
       "</style>\n",
       "<table border=\"1\" class=\"dataframe\">\n",
       "  <thead>\n",
       "    <tr style=\"text-align: right;\">\n",
       "      <th></th>\n",
       "      <th>Book-Title</th>\n",
       "      <th>RatingCount_book</th>\n",
       "      <th>User-ID</th>\n",
       "      <th>ISBN</th>\n",
       "      <th>Book-Rating</th>\n",
       "      <th>Book-Author</th>\n",
       "      <th>Year-Of-Publication</th>\n",
       "      <th>Publisher</th>\n",
       "    </tr>\n",
       "  </thead>\n",
       "  <tbody>\n",
       "    <tr>\n",
       "      <th>0</th>\n",
       "      <td>'Salem's Lot</td>\n",
       "      <td>22</td>\n",
       "      <td>33283</td>\n",
       "      <td>0451168089</td>\n",
       "      <td>10</td>\n",
       "      <td>Stephen King</td>\n",
       "      <td>1990</td>\n",
       "      <td>Signet Book</td>\n",
       "    </tr>\n",
       "    <tr>\n",
       "      <th>1</th>\n",
       "      <td>'Salem's Lot</td>\n",
       "      <td>22</td>\n",
       "      <td>56044</td>\n",
       "      <td>0451168089</td>\n",
       "      <td>8</td>\n",
       "      <td>Stephen King</td>\n",
       "      <td>1990</td>\n",
       "      <td>Signet Book</td>\n",
       "    </tr>\n",
       "    <tr>\n",
       "      <th>2</th>\n",
       "      <td>'Salem's Lot</td>\n",
       "      <td>22</td>\n",
       "      <td>60263</td>\n",
       "      <td>0451168089</td>\n",
       "      <td>10</td>\n",
       "      <td>Stephen King</td>\n",
       "      <td>1990</td>\n",
       "      <td>Signet Book</td>\n",
       "    </tr>\n",
       "    <tr>\n",
       "      <th>3</th>\n",
       "      <td>'Salem's Lot</td>\n",
       "      <td>22</td>\n",
       "      <td>70065</td>\n",
       "      <td>0451168089</td>\n",
       "      <td>5</td>\n",
       "      <td>Stephen King</td>\n",
       "      <td>1990</td>\n",
       "      <td>Signet Book</td>\n",
       "    </tr>\n",
       "    <tr>\n",
       "      <th>4</th>\n",
       "      <td>'Salem's Lot</td>\n",
       "      <td>22</td>\n",
       "      <td>71712</td>\n",
       "      <td>0451168089</td>\n",
       "      <td>5</td>\n",
       "      <td>Stephen King</td>\n",
       "      <td>1990</td>\n",
       "      <td>Signet Book</td>\n",
       "    </tr>\n",
       "  </tbody>\n",
       "</table>\n",
       "</div>"
      ],
      "text/plain": [
       "     Book-Title  RatingCount_book  User-ID        ISBN  Book-Rating  \\\n",
       "0  'Salem's Lot                22    33283  0451168089           10   \n",
       "1  'Salem's Lot                22    56044  0451168089            8   \n",
       "2  'Salem's Lot                22    60263  0451168089           10   \n",
       "3  'Salem's Lot                22    70065  0451168089            5   \n",
       "4  'Salem's Lot                22    71712  0451168089            5   \n",
       "\n",
       "    Book-Author Year-Of-Publication    Publisher  \n",
       "0  Stephen King                1990  Signet Book  \n",
       "1  Stephen King                1990  Signet Book  \n",
       "2  Stephen King                1990  Signet Book  \n",
       "3  Stephen King                1990  Signet Book  \n",
       "4  Stephen King                1990  Signet Book  "
      ]
     },
     "execution_count": 26,
     "metadata": {},
     "output_type": "execute_result"
    }
   ],
   "source": [
    "user_rating = pd.merge(rating_count, book_rating, left_on='Book-Title', right_on='Book-Title', how='left')\n",
    "user_rating.head()"
   ]
  },
  {
   "cell_type": "code",
   "execution_count": 27,
   "id": "ee56761a",
   "metadata": {},
   "outputs": [],
   "source": [
    "user_count = (user_rating.\n",
    "     groupby(by = ['User-ID'])['Book-Rating'].\n",
    "     count().\n",
    "     reset_index().\n",
    "     rename(columns = {'Book-Rating': 'RatingCount_user'})\n",
    "     [['User-ID', 'RatingCount_user']]\n",
    "    )\n",
    "\n",
    "threshold = 10\n",
    "user_count = user_count.query('RatingCount_user >= @threshold')"
   ]
  },
  {
   "cell_type": "code",
   "execution_count": 28,
   "id": "6849f5e4",
   "metadata": {},
   "outputs": [
    {
     "data": {
      "text/html": [
       "<div>\n",
       "<style scoped>\n",
       "    .dataframe tbody tr th:only-of-type {\n",
       "        vertical-align: middle;\n",
       "    }\n",
       "\n",
       "    .dataframe tbody tr th {\n",
       "        vertical-align: top;\n",
       "    }\n",
       "\n",
       "    .dataframe thead th {\n",
       "        text-align: right;\n",
       "    }\n",
       "</style>\n",
       "<table border=\"1\" class=\"dataframe\">\n",
       "  <thead>\n",
       "    <tr style=\"text-align: right;\">\n",
       "      <th></th>\n",
       "      <th>Book-Title</th>\n",
       "      <th>RatingCount_book</th>\n",
       "      <th>User-ID</th>\n",
       "      <th>ISBN</th>\n",
       "      <th>Book-Rating</th>\n",
       "      <th>Book-Author</th>\n",
       "      <th>Year-Of-Publication</th>\n",
       "      <th>Publisher</th>\n",
       "      <th>RatingCount_user</th>\n",
       "    </tr>\n",
       "  </thead>\n",
       "  <tbody>\n",
       "    <tr>\n",
       "      <th>0</th>\n",
       "      <td>'Salem's Lot</td>\n",
       "      <td>22</td>\n",
       "      <td>33283</td>\n",
       "      <td>0451168089</td>\n",
       "      <td>10</td>\n",
       "      <td>Stephen King</td>\n",
       "      <td>1990</td>\n",
       "      <td>Signet Book</td>\n",
       "      <td>10</td>\n",
       "    </tr>\n",
       "    <tr>\n",
       "      <th>1</th>\n",
       "      <td>Dragon Tears</td>\n",
       "      <td>38</td>\n",
       "      <td>33283</td>\n",
       "      <td>0425140032</td>\n",
       "      <td>9</td>\n",
       "      <td>Dean R. Koontz</td>\n",
       "      <td>1995</td>\n",
       "      <td>Berkley Publishing Group</td>\n",
       "      <td>10</td>\n",
       "    </tr>\n",
       "    <tr>\n",
       "      <th>2</th>\n",
       "      <td>GARDEN OF SHADOWS (Dollanger Saga (Paperback))</td>\n",
       "      <td>27</td>\n",
       "      <td>33283</td>\n",
       "      <td>067164257X</td>\n",
       "      <td>10</td>\n",
       "      <td>Ariel Jennifer Jones</td>\n",
       "      <td>1987</td>\n",
       "      <td>Pocket</td>\n",
       "      <td>10</td>\n",
       "    </tr>\n",
       "    <tr>\n",
       "      <th>3</th>\n",
       "      <td>Not Without My Daughter</td>\n",
       "      <td>24</td>\n",
       "      <td>33283</td>\n",
       "      <td>0312925883</td>\n",
       "      <td>10</td>\n",
       "      <td>Betty Mahmoody</td>\n",
       "      <td>1993</td>\n",
       "      <td>St. Martin's Press</td>\n",
       "      <td>10</td>\n",
       "    </tr>\n",
       "    <tr>\n",
       "      <th>4</th>\n",
       "      <td>The Dead Zone</td>\n",
       "      <td>58</td>\n",
       "      <td>33283</td>\n",
       "      <td>0451155750</td>\n",
       "      <td>6</td>\n",
       "      <td>Stephen King</td>\n",
       "      <td>2004</td>\n",
       "      <td>Signet Book</td>\n",
       "      <td>10</td>\n",
       "    </tr>\n",
       "  </tbody>\n",
       "</table>\n",
       "</div>"
      ],
      "text/plain": [
       "                                       Book-Title  RatingCount_book  User-ID  \\\n",
       "0                                    'Salem's Lot                22    33283   \n",
       "1                                    Dragon Tears                38    33283   \n",
       "2  GARDEN OF SHADOWS (Dollanger Saga (Paperback))                27    33283   \n",
       "3                         Not Without My Daughter                24    33283   \n",
       "4                                   The Dead Zone                58    33283   \n",
       "\n",
       "         ISBN  Book-Rating           Book-Author Year-Of-Publication  \\\n",
       "0  0451168089           10          Stephen King                1990   \n",
       "1  0425140032            9        Dean R. Koontz                1995   \n",
       "2  067164257X           10  Ariel Jennifer Jones                1987   \n",
       "3  0312925883           10        Betty Mahmoody                1993   \n",
       "4  0451155750            6          Stephen King                2004   \n",
       "\n",
       "                  Publisher  RatingCount_user  \n",
       "0               Signet Book                10  \n",
       "1  Berkley Publishing Group                10  \n",
       "2                    Pocket                10  \n",
       "3        St. Martin's Press                10  \n",
       "4               Signet Book                10  "
      ]
     },
     "execution_count": 28,
     "metadata": {},
     "output_type": "execute_result"
    }
   ],
   "source": [
    "combined = user_rating.merge(user_count, left_on = 'User-ID', right_on = 'User-ID', how = 'inner')\n",
    "combined.head()"
   ]
  },
  {
   "cell_type": "code",
   "execution_count": 30,
   "id": "f1c29f88",
   "metadata": {},
   "outputs": [
    {
     "data": {
      "text/html": [
       "<div>\n",
       "<style scoped>\n",
       "    .dataframe tbody tr th:only-of-type {\n",
       "        vertical-align: middle;\n",
       "    }\n",
       "\n",
       "    .dataframe tbody tr th {\n",
       "        vertical-align: top;\n",
       "    }\n",
       "\n",
       "    .dataframe thead th {\n",
       "        text-align: right;\n",
       "    }\n",
       "</style>\n",
       "<table border=\"1\" class=\"dataframe\">\n",
       "  <thead>\n",
       "    <tr style=\"text-align: right;\">\n",
       "      <th></th>\n",
       "      <th>Book-Title</th>\n",
       "      <th>RatingCount_book</th>\n",
       "      <th>User-ID</th>\n",
       "      <th>ISBN</th>\n",
       "      <th>Book-Rating</th>\n",
       "      <th>Book-Author</th>\n",
       "      <th>Year-Of-Publication</th>\n",
       "      <th>Publisher</th>\n",
       "      <th>RatingCount_user</th>\n",
       "    </tr>\n",
       "  </thead>\n",
       "  <tbody>\n",
       "    <tr>\n",
       "      <th>0</th>\n",
       "      <td>'Salem's Lot</td>\n",
       "      <td>22</td>\n",
       "      <td>33283</td>\n",
       "      <td>0451168089</td>\n",
       "      <td>10</td>\n",
       "      <td>Stephen King</td>\n",
       "      <td>1990</td>\n",
       "      <td>Signet Book</td>\n",
       "      <td>10</td>\n",
       "    </tr>\n",
       "    <tr>\n",
       "      <th>1</th>\n",
       "      <td>Dragon Tears</td>\n",
       "      <td>38</td>\n",
       "      <td>33283</td>\n",
       "      <td>0425140032</td>\n",
       "      <td>9</td>\n",
       "      <td>Dean R. Koontz</td>\n",
       "      <td>1995</td>\n",
       "      <td>Berkley Publishing Group</td>\n",
       "      <td>10</td>\n",
       "    </tr>\n",
       "    <tr>\n",
       "      <th>2</th>\n",
       "      <td>GARDEN OF SHADOWS (Dollanger Saga (Paperback))</td>\n",
       "      <td>27</td>\n",
       "      <td>33283</td>\n",
       "      <td>067164257X</td>\n",
       "      <td>10</td>\n",
       "      <td>Ariel Jennifer Jones</td>\n",
       "      <td>1987</td>\n",
       "      <td>Pocket</td>\n",
       "      <td>10</td>\n",
       "    </tr>\n",
       "    <tr>\n",
       "      <th>3</th>\n",
       "      <td>Not Without My Daughter</td>\n",
       "      <td>24</td>\n",
       "      <td>33283</td>\n",
       "      <td>0312925883</td>\n",
       "      <td>10</td>\n",
       "      <td>Betty Mahmoody</td>\n",
       "      <td>1993</td>\n",
       "      <td>St. Martin's Press</td>\n",
       "      <td>10</td>\n",
       "    </tr>\n",
       "    <tr>\n",
       "      <th>4</th>\n",
       "      <td>The Dead Zone</td>\n",
       "      <td>58</td>\n",
       "      <td>33283</td>\n",
       "      <td>0451155750</td>\n",
       "      <td>6</td>\n",
       "      <td>Stephen King</td>\n",
       "      <td>2004</td>\n",
       "      <td>Signet Book</td>\n",
       "      <td>10</td>\n",
       "    </tr>\n",
       "  </tbody>\n",
       "</table>\n",
       "</div>"
      ],
      "text/plain": [
       "                                       Book-Title  RatingCount_book  User-ID  \\\n",
       "0                                    'Salem's Lot                22    33283   \n",
       "1                                    Dragon Tears                38    33283   \n",
       "2  GARDEN OF SHADOWS (Dollanger Saga (Paperback))                27    33283   \n",
       "3                         Not Without My Daughter                24    33283   \n",
       "4                                   The Dead Zone                58    33283   \n",
       "\n",
       "         ISBN  Book-Rating           Book-Author Year-Of-Publication  \\\n",
       "0  0451168089           10          Stephen King                1990   \n",
       "1  0425140032            9        Dean R. Koontz                1995   \n",
       "2  067164257X           10  Ariel Jennifer Jones                1987   \n",
       "3  0312925883           10        Betty Mahmoody                1993   \n",
       "4  0451155750            6          Stephen King                2004   \n",
       "\n",
       "                  Publisher  RatingCount_user  \n",
       "0               Signet Book                10  \n",
       "1  Berkley Publishing Group                10  \n",
       "2                    Pocket                10  \n",
       "3        St. Martin's Press                10  \n",
       "4               Signet Book                10  "
      ]
     },
     "execution_count": 30,
     "metadata": {},
     "output_type": "execute_result"
    }
   ],
   "source": [
    "combined = user_rating.merge(user_count, left_on = 'User-ID', right_on = 'User-ID', how = 'inner')\n",
    "combined.head()"
   ]
  },
  {
   "cell_type": "code",
   "execution_count": 31,
   "id": "0370b451",
   "metadata": {},
   "outputs": [
    {
     "name": "stdout",
     "output_type": "stream",
     "text": [
      "Unique books:  2333\n",
      "Unique users:  2200\n"
     ]
    }
   ],
   "source": [
    "print('Unique books: ', combined['Book-Title'].nunique())\n",
    "print('Unique users: ', combined['User-ID'].nunique())"
   ]
  },
  {
   "cell_type": "markdown",
   "id": "5e02d74a",
   "metadata": {},
   "source": [
    " #### Now we have a good size dataset that we are going to use for the following project."
   ]
  }
 ],
 "metadata": {
  "kernelspec": {
   "display_name": "Python 3 (ipykernel)",
   "language": "python",
   "name": "python3"
  },
  "language_info": {
   "codemirror_mode": {
    "name": "ipython",
    "version": 3
   },
   "file_extension": ".py",
   "mimetype": "text/x-python",
   "name": "python",
   "nbconvert_exporter": "python",
   "pygments_lexer": "ipython3",
   "version": "3.7.13"
  }
 },
 "nbformat": 4,
 "nbformat_minor": 5
}
